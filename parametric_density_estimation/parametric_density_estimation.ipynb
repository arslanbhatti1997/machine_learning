{
 "cells": [
  {
   "cell_type": "markdown",
   "metadata": {},
   "source": [
    "# Lab 2: Parametric Classifiers\n",
    "Machine Learning 2020/2021 <br>\n",
    "Ruben Wiersma and David Tax\n",
    "\n",
    "Revised by Yorick de Vries"
   ]
  },
  {
   "cell_type": "markdown",
   "metadata": {},
   "source": [
    "**WHAT** This nonmandatory lab consists of several programming and insight exercises/questions on k-nn density estimation.\n",
    "\n",
    "**WHY** The exercises are meant to familiarize yourself with the basic concepts of parametric classifiers.\n",
    "\n",
    "**HOW** Follow the exercises in this notebook either on your own or with a fellow student. If you want to skip right to questions and exercises, find the $\\rightarrow$ symbol.  \n",
    "For questions and feedback please consult the TAs during the lab session. \n",
    "\n",
    "$\\newcommand{\\q}[1]{\\rightarrow \\textbf{Question #1}}$\n",
    "$\\newcommand{\\ex}[1]{\\rightarrow \\textbf{Exercise #1}}$"
   ]
  },
  {
   "cell_type": "markdown",
   "metadata": {},
   "source": [
    "## The Bayes classifier\n",
    "\n",
    "In this assignment, you will implement your own Bayes classifier. Because this is your first assignment, we will walk you through the steps from loading and inspecting the data, to running your classifier.\n",
    "\n",
    "Specifically, this assignment consists of the following steps:\n",
    "0. Classification using Gaussian distributions\n",
    "1. Getting to know the data\n",
    "2. Validation sets\n",
    "3. Univariate model\n",
    "4. Probability density function\n",
    "5. Posterior probabilities\n",
    "6. Bayes classifier\n",
    "\n",
    "Work your way through these exercises at your own pace and be sure to ask questions to the TA's when you don't understand something. It's important that you get what is happening here, as it is a fundamental building block of machine learning."
   ]
  },
  {
   "cell_type": "markdown",
   "metadata": {},
   "source": [
    "## 0. Classification using Gaussian distributions\n",
    "\n",
    "We are starting with a very important notion in machine learning: probability distributions. Occurrences of data typically follow probability distributions that we know how to model.\n",
    "\n",
    "Say, you want to classify apples vs. oranges. A _feature_ that you could use to classify them is their colour. We know, of course, that oranges are orange and apples (the golden delicious kind) are green, but each orange is a slightly different shade of orange. Likewise, the apples are all a different shade of green. If we would plot the colour values against the number of fruits with that colour, we would see, however, that there are probably more oranges with a certain type of shade than with other colours. They tend to follow known probability distributions.\n",
    "\n",
    "In this assignment, we will assume data that has a normal distribution and try to estimate the **parameters** of the assumed normal distribution to correctly fit our data, hence the name **parametric classifiers**. We will then use Bayes' rule to build a classifier based on the probability distribution.\n",
    "\n",
    "Just to refresh your mind, this is what a normal distribution looks like:\n",
    "![Normal distribution for oranges](gaussian.png)"
   ]
  },
  {
   "cell_type": "markdown",
   "metadata": {},
   "source": [
    "Instead of apples and oranges, we will try to classify flowers from Fisher's Iris dataset. The dataset contains the measurements of *length* and *width* of the *sepals* and *petals* of 150 flowers. \n",
    "\n",
    "![Petal and sepal in Iris flowers](Petal-sepal.jpg)\n",
    "\n",
    "Using the distribution of these 4 features (*length* and *width* of both *sepals* and *petals*), the flowers can then be classified as one of 3 species of Iris flower:\n",
    "\n",
    "* Iris setosa\n",
    "* Iris versicolor\n",
    "* Iris virginica\n",
    "\n",
    "This dataset is such a classic example that it is even included in machine learning libraries. The following code will load the dataset from `scikit-learn` (this was installed with conda) into the variable `iris`.\n",
    "\n",
    "$\\ex{0.1}$ Run the code and inspect what data is contained in `iris`. Can you identify the 4 attributes? What other information is contained in `iris`?"
   ]
  },
  {
   "cell_type": "code",
   "execution_count": 2,
   "metadata": {},
   "outputs": [
    {
     "data": {
      "text/plain": [
       "{'data': array([[5.1, 3.5, 1.4, 0.2],\n",
       "        [4.9, 3. , 1.4, 0.2],\n",
       "        [4.7, 3.2, 1.3, 0.2],\n",
       "        [4.6, 3.1, 1.5, 0.2],\n",
       "        [5. , 3.6, 1.4, 0.2],\n",
       "        [5.4, 3.9, 1.7, 0.4],\n",
       "        [4.6, 3.4, 1.4, 0.3],\n",
       "        [5. , 3.4, 1.5, 0.2],\n",
       "        [4.4, 2.9, 1.4, 0.2],\n",
       "        [4.9, 3.1, 1.5, 0.1],\n",
       "        [5.4, 3.7, 1.5, 0.2],\n",
       "        [4.8, 3.4, 1.6, 0.2],\n",
       "        [4.8, 3. , 1.4, 0.1],\n",
       "        [4.3, 3. , 1.1, 0.1],\n",
       "        [5.8, 4. , 1.2, 0.2],\n",
       "        [5.7, 4.4, 1.5, 0.4],\n",
       "        [5.4, 3.9, 1.3, 0.4],\n",
       "        [5.1, 3.5, 1.4, 0.3],\n",
       "        [5.7, 3.8, 1.7, 0.3],\n",
       "        [5.1, 3.8, 1.5, 0.3],\n",
       "        [5.4, 3.4, 1.7, 0.2],\n",
       "        [5.1, 3.7, 1.5, 0.4],\n",
       "        [4.6, 3.6, 1. , 0.2],\n",
       "        [5.1, 3.3, 1.7, 0.5],\n",
       "        [4.8, 3.4, 1.9, 0.2],\n",
       "        [5. , 3. , 1.6, 0.2],\n",
       "        [5. , 3.4, 1.6, 0.4],\n",
       "        [5.2, 3.5, 1.5, 0.2],\n",
       "        [5.2, 3.4, 1.4, 0.2],\n",
       "        [4.7, 3.2, 1.6, 0.2],\n",
       "        [4.8, 3.1, 1.6, 0.2],\n",
       "        [5.4, 3.4, 1.5, 0.4],\n",
       "        [5.2, 4.1, 1.5, 0.1],\n",
       "        [5.5, 4.2, 1.4, 0.2],\n",
       "        [4.9, 3.1, 1.5, 0.2],\n",
       "        [5. , 3.2, 1.2, 0.2],\n",
       "        [5.5, 3.5, 1.3, 0.2],\n",
       "        [4.9, 3.6, 1.4, 0.1],\n",
       "        [4.4, 3. , 1.3, 0.2],\n",
       "        [5.1, 3.4, 1.5, 0.2],\n",
       "        [5. , 3.5, 1.3, 0.3],\n",
       "        [4.5, 2.3, 1.3, 0.3],\n",
       "        [4.4, 3.2, 1.3, 0.2],\n",
       "        [5. , 3.5, 1.6, 0.6],\n",
       "        [5.1, 3.8, 1.9, 0.4],\n",
       "        [4.8, 3. , 1.4, 0.3],\n",
       "        [5.1, 3.8, 1.6, 0.2],\n",
       "        [4.6, 3.2, 1.4, 0.2],\n",
       "        [5.3, 3.7, 1.5, 0.2],\n",
       "        [5. , 3.3, 1.4, 0.2],\n",
       "        [7. , 3.2, 4.7, 1.4],\n",
       "        [6.4, 3.2, 4.5, 1.5],\n",
       "        [6.9, 3.1, 4.9, 1.5],\n",
       "        [5.5, 2.3, 4. , 1.3],\n",
       "        [6.5, 2.8, 4.6, 1.5],\n",
       "        [5.7, 2.8, 4.5, 1.3],\n",
       "        [6.3, 3.3, 4.7, 1.6],\n",
       "        [4.9, 2.4, 3.3, 1. ],\n",
       "        [6.6, 2.9, 4.6, 1.3],\n",
       "        [5.2, 2.7, 3.9, 1.4],\n",
       "        [5. , 2. , 3.5, 1. ],\n",
       "        [5.9, 3. , 4.2, 1.5],\n",
       "        [6. , 2.2, 4. , 1. ],\n",
       "        [6.1, 2.9, 4.7, 1.4],\n",
       "        [5.6, 2.9, 3.6, 1.3],\n",
       "        [6.7, 3.1, 4.4, 1.4],\n",
       "        [5.6, 3. , 4.5, 1.5],\n",
       "        [5.8, 2.7, 4.1, 1. ],\n",
       "        [6.2, 2.2, 4.5, 1.5],\n",
       "        [5.6, 2.5, 3.9, 1.1],\n",
       "        [5.9, 3.2, 4.8, 1.8],\n",
       "        [6.1, 2.8, 4. , 1.3],\n",
       "        [6.3, 2.5, 4.9, 1.5],\n",
       "        [6.1, 2.8, 4.7, 1.2],\n",
       "        [6.4, 2.9, 4.3, 1.3],\n",
       "        [6.6, 3. , 4.4, 1.4],\n",
       "        [6.8, 2.8, 4.8, 1.4],\n",
       "        [6.7, 3. , 5. , 1.7],\n",
       "        [6. , 2.9, 4.5, 1.5],\n",
       "        [5.7, 2.6, 3.5, 1. ],\n",
       "        [5.5, 2.4, 3.8, 1.1],\n",
       "        [5.5, 2.4, 3.7, 1. ],\n",
       "        [5.8, 2.7, 3.9, 1.2],\n",
       "        [6. , 2.7, 5.1, 1.6],\n",
       "        [5.4, 3. , 4.5, 1.5],\n",
       "        [6. , 3.4, 4.5, 1.6],\n",
       "        [6.7, 3.1, 4.7, 1.5],\n",
       "        [6.3, 2.3, 4.4, 1.3],\n",
       "        [5.6, 3. , 4.1, 1.3],\n",
       "        [5.5, 2.5, 4. , 1.3],\n",
       "        [5.5, 2.6, 4.4, 1.2],\n",
       "        [6.1, 3. , 4.6, 1.4],\n",
       "        [5.8, 2.6, 4. , 1.2],\n",
       "        [5. , 2.3, 3.3, 1. ],\n",
       "        [5.6, 2.7, 4.2, 1.3],\n",
       "        [5.7, 3. , 4.2, 1.2],\n",
       "        [5.7, 2.9, 4.2, 1.3],\n",
       "        [6.2, 2.9, 4.3, 1.3],\n",
       "        [5.1, 2.5, 3. , 1.1],\n",
       "        [5.7, 2.8, 4.1, 1.3],\n",
       "        [6.3, 3.3, 6. , 2.5],\n",
       "        [5.8, 2.7, 5.1, 1.9],\n",
       "        [7.1, 3. , 5.9, 2.1],\n",
       "        [6.3, 2.9, 5.6, 1.8],\n",
       "        [6.5, 3. , 5.8, 2.2],\n",
       "        [7.6, 3. , 6.6, 2.1],\n",
       "        [4.9, 2.5, 4.5, 1.7],\n",
       "        [7.3, 2.9, 6.3, 1.8],\n",
       "        [6.7, 2.5, 5.8, 1.8],\n",
       "        [7.2, 3.6, 6.1, 2.5],\n",
       "        [6.5, 3.2, 5.1, 2. ],\n",
       "        [6.4, 2.7, 5.3, 1.9],\n",
       "        [6.8, 3. , 5.5, 2.1],\n",
       "        [5.7, 2.5, 5. , 2. ],\n",
       "        [5.8, 2.8, 5.1, 2.4],\n",
       "        [6.4, 3.2, 5.3, 2.3],\n",
       "        [6.5, 3. , 5.5, 1.8],\n",
       "        [7.7, 3.8, 6.7, 2.2],\n",
       "        [7.7, 2.6, 6.9, 2.3],\n",
       "        [6. , 2.2, 5. , 1.5],\n",
       "        [6.9, 3.2, 5.7, 2.3],\n",
       "        [5.6, 2.8, 4.9, 2. ],\n",
       "        [7.7, 2.8, 6.7, 2. ],\n",
       "        [6.3, 2.7, 4.9, 1.8],\n",
       "        [6.7, 3.3, 5.7, 2.1],\n",
       "        [7.2, 3.2, 6. , 1.8],\n",
       "        [6.2, 2.8, 4.8, 1.8],\n",
       "        [6.1, 3. , 4.9, 1.8],\n",
       "        [6.4, 2.8, 5.6, 2.1],\n",
       "        [7.2, 3. , 5.8, 1.6],\n",
       "        [7.4, 2.8, 6.1, 1.9],\n",
       "        [7.9, 3.8, 6.4, 2. ],\n",
       "        [6.4, 2.8, 5.6, 2.2],\n",
       "        [6.3, 2.8, 5.1, 1.5],\n",
       "        [6.1, 2.6, 5.6, 1.4],\n",
       "        [7.7, 3. , 6.1, 2.3],\n",
       "        [6.3, 3.4, 5.6, 2.4],\n",
       "        [6.4, 3.1, 5.5, 1.8],\n",
       "        [6. , 3. , 4.8, 1.8],\n",
       "        [6.9, 3.1, 5.4, 2.1],\n",
       "        [6.7, 3.1, 5.6, 2.4],\n",
       "        [6.9, 3.1, 5.1, 2.3],\n",
       "        [5.8, 2.7, 5.1, 1.9],\n",
       "        [6.8, 3.2, 5.9, 2.3],\n",
       "        [6.7, 3.3, 5.7, 2.5],\n",
       "        [6.7, 3. , 5.2, 2.3],\n",
       "        [6.3, 2.5, 5. , 1.9],\n",
       "        [6.5, 3. , 5.2, 2. ],\n",
       "        [6.2, 3.4, 5.4, 2.3],\n",
       "        [5.9, 3. , 5.1, 1.8]]),\n",
       " 'target': array([0, 0, 0, 0, 0, 0, 0, 0, 0, 0, 0, 0, 0, 0, 0, 0, 0, 0, 0, 0, 0, 0,\n",
       "        0, 0, 0, 0, 0, 0, 0, 0, 0, 0, 0, 0, 0, 0, 0, 0, 0, 0, 0, 0, 0, 0,\n",
       "        0, 0, 0, 0, 0, 0, 1, 1, 1, 1, 1, 1, 1, 1, 1, 1, 1, 1, 1, 1, 1, 1,\n",
       "        1, 1, 1, 1, 1, 1, 1, 1, 1, 1, 1, 1, 1, 1, 1, 1, 1, 1, 1, 1, 1, 1,\n",
       "        1, 1, 1, 1, 1, 1, 1, 1, 1, 1, 1, 1, 2, 2, 2, 2, 2, 2, 2, 2, 2, 2,\n",
       "        2, 2, 2, 2, 2, 2, 2, 2, 2, 2, 2, 2, 2, 2, 2, 2, 2, 2, 2, 2, 2, 2,\n",
       "        2, 2, 2, 2, 2, 2, 2, 2, 2, 2, 2, 2, 2, 2, 2, 2, 2, 2]),\n",
       " 'frame': None,\n",
       " 'target_names': array(['setosa', 'versicolor', 'virginica'], dtype='<U10'),\n",
       " 'DESCR': '.. _iris_dataset:\\n\\nIris plants dataset\\n--------------------\\n\\n**Data Set Characteristics:**\\n\\n    :Number of Instances: 150 (50 in each of three classes)\\n    :Number of Attributes: 4 numeric, predictive attributes and the class\\n    :Attribute Information:\\n        - sepal length in cm\\n        - sepal width in cm\\n        - petal length in cm\\n        - petal width in cm\\n        - class:\\n                - Iris-Setosa\\n                - Iris-Versicolour\\n                - Iris-Virginica\\n                \\n    :Summary Statistics:\\n\\n    ============== ==== ==== ======= ===== ====================\\n                    Min  Max   Mean    SD   Class Correlation\\n    ============== ==== ==== ======= ===== ====================\\n    sepal length:   4.3  7.9   5.84   0.83    0.7826\\n    sepal width:    2.0  4.4   3.05   0.43   -0.4194\\n    petal length:   1.0  6.9   3.76   1.76    0.9490  (high!)\\n    petal width:    0.1  2.5   1.20   0.76    0.9565  (high!)\\n    ============== ==== ==== ======= ===== ====================\\n\\n    :Missing Attribute Values: None\\n    :Class Distribution: 33.3% for each of 3 classes.\\n    :Creator: R.A. Fisher\\n    :Donor: Michael Marshall (MARSHALL%PLU@io.arc.nasa.gov)\\n    :Date: July, 1988\\n\\nThe famous Iris database, first used by Sir R.A. Fisher. The dataset is taken\\nfrom Fisher\\'s paper. Note that it\\'s the same as in R, but not as in the UCI\\nMachine Learning Repository, which has two wrong data points.\\n\\nThis is perhaps the best known database to be found in the\\npattern recognition literature.  Fisher\\'s paper is a classic in the field and\\nis referenced frequently to this day.  (See Duda & Hart, for example.)  The\\ndata set contains 3 classes of 50 instances each, where each class refers to a\\ntype of iris plant.  One class is linearly separable from the other 2; the\\nlatter are NOT linearly separable from each other.\\n\\n.. topic:: References\\n\\n   - Fisher, R.A. \"The use of multiple measurements in taxonomic problems\"\\n     Annual Eugenics, 7, Part II, 179-188 (1936); also in \"Contributions to\\n     Mathematical Statistics\" (John Wiley, NY, 1950).\\n   - Duda, R.O., & Hart, P.E. (1973) Pattern Classification and Scene Analysis.\\n     (Q327.D83) John Wiley & Sons.  ISBN 0-471-22361-1.  See page 218.\\n   - Dasarathy, B.V. (1980) \"Nosing Around the Neighborhood: A New System\\n     Structure and Classification Rule for Recognition in Partially Exposed\\n     Environments\".  IEEE Transactions on Pattern Analysis and Machine\\n     Intelligence, Vol. PAMI-2, No. 1, 67-71.\\n   - Gates, G.W. (1972) \"The Reduced Nearest Neighbor Rule\".  IEEE Transactions\\n     on Information Theory, May 1972, 431-433.\\n   - See also: 1988 MLC Proceedings, 54-64.  Cheeseman et al\"s AUTOCLASS II\\n     conceptual clustering system finds 3 classes in the data.\\n   - Many, many more ...',\n",
       " 'feature_names': ['sepal length (cm)',\n",
       "  'sepal width (cm)',\n",
       "  'petal length (cm)',\n",
       "  'petal width (cm)'],\n",
       " 'filename': 'C:\\\\Users\\\\arsla\\\\anaconda3\\\\lib\\\\site-packages\\\\sklearn\\\\datasets\\\\data\\\\iris.csv'}"
      ]
     },
     "execution_count": 2,
     "metadata": {},
     "output_type": "execute_result"
    }
   ],
   "source": [
    "import numpy as np\n",
    "from sklearn import datasets\n",
    "\n",
    "iris = datasets.load_iris()\n",
    "iris"
   ]
  },
  {
   "cell_type": "markdown",
   "metadata": {},
   "source": [
    "## 1. Getting to know the data\n",
    "\n",
    "The dataset is stored as a dictionary, a data structure in Python that resembles a Java(script) object. We can access items in the dictionary with a dot `.`, so we access the data and their target labels with `iris.data` and `iris.target`, these are both NumPy arrays. If we want to know what each digit means, we can access the names with `iris.target_names`.\n",
    "\n",
    "$\\ex{1.1}$ Run the code fragment and confirm what it is doing. Try to understand the indexing and print the following data:\n",
    "- The last five flowers. Expected result: an array with shape (5, 4).\n",
    "- Only the third feature of each flower. Expected result: an array with shape (150,).\n",
    "- The names of the first ten flowers. Expected result: an array with shape (10,).\n",
    "- Three separate arrays (one for each class). Expected result: three arrays with shape (50, 4). Try doing this without assuming anything about the indices for each class, i.e.: do not simply use `class1 = iris.data[:50, :]`. You can use `np.where`. This function takes in a boolean statement and returns the indices for which the statement is true. Example use: `np.where(iris.target == 0)` returns all indices where the target label is 0.\n",
    "\n",
    "__Hint__ Look at the indexing chapter in last week's NumPy lab for help."
   ]
  },
  {
   "cell_type": "code",
   "execution_count": 15,
   "metadata": {},
   "outputs": [
    {
     "name": "stdout",
     "output_type": "stream",
     "text": [
      "First five flowers: \n",
      " [[5.1 3.5 1.4 0.2]\n",
      " [4.9 3.  1.4 0.2]\n",
      " [4.7 3.2 1.3 0.2]\n",
      " [4.6 3.1 1.5 0.2]\n",
      " [5.  3.6 1.4 0.2]]\n",
      "Their labels:  [0 0 0 0 0]\n",
      "And the label names:  ['setosa' 'versicolor' 'virginica']\n",
      "Last five flowers: \n",
      " [[6.7 3.  5.2 2.3]\n",
      " [6.3 2.5 5.  1.9]\n",
      " [6.5 3.  5.2 2. ]\n",
      " [6.2 3.4 5.4 2.3]\n",
      " [5.9 3.  5.1 1.8]]\n",
      "Only the third feature:  [1.4 1.4 1.3 1.5 1.4 1.7 1.4 1.5 1.4 1.5 1.5 1.6 1.4 1.1 1.2 1.5 1.3 1.4\n",
      " 1.7 1.5 1.7 1.5 1.  1.7 1.9 1.6 1.6 1.5 1.4 1.6 1.6 1.5 1.5 1.4 1.5 1.2\n",
      " 1.3 1.4 1.3 1.5 1.3 1.3 1.3 1.6 1.9 1.4 1.6 1.4 1.5 1.4 4.7 4.5 4.9 4.\n",
      " 4.6 4.5 4.7 3.3 4.6 3.9 3.5 4.2 4.  4.7 3.6 4.4 4.5 4.1 4.5 3.9 4.8 4.\n",
      " 4.9 4.7 4.3 4.4 4.8 5.  4.5 3.5 3.8 3.7 3.9 5.1 4.5 4.5 4.7 4.4 4.1 4.\n",
      " 4.4 4.6 4.  3.3 4.2 4.2 4.2 4.3 3.  4.1 6.  5.1 5.9 5.6 5.8 6.6 4.5 6.3\n",
      " 5.8 6.1 5.1 5.3 5.5 5.  5.1 5.3 5.5 6.7 6.9 5.  5.7 4.9 6.7 4.9 5.7 6.\n",
      " 4.8 4.9 5.6 5.8 6.1 6.4 5.6 5.1 5.6 6.1 5.6 5.5 4.8 5.4 5.6 5.1 5.1 5.9\n",
      " 5.7 5.2 5.  5.2 5.4 5.1]\n",
      "All label names:  ['setosa' 'setosa' 'setosa' 'setosa' 'setosa' 'setosa' 'setosa' 'setosa'\n",
      " 'setosa' 'setosa']\n",
      "Class:  setosa ; Items: \n",
      " [[5.1 3.5 1.4 0.2]\n",
      " [4.9 3.  1.4 0.2]\n",
      " [4.7 3.2 1.3 0.2]\n",
      " [4.6 3.1 1.5 0.2]\n",
      " [5.  3.6 1.4 0.2]\n",
      " [5.4 3.9 1.7 0.4]\n",
      " [4.6 3.4 1.4 0.3]\n",
      " [5.  3.4 1.5 0.2]\n",
      " [4.4 2.9 1.4 0.2]\n",
      " [4.9 3.1 1.5 0.1]\n",
      " [5.4 3.7 1.5 0.2]\n",
      " [4.8 3.4 1.6 0.2]\n",
      " [4.8 3.  1.4 0.1]\n",
      " [4.3 3.  1.1 0.1]\n",
      " [5.8 4.  1.2 0.2]\n",
      " [5.7 4.4 1.5 0.4]\n",
      " [5.4 3.9 1.3 0.4]\n",
      " [5.1 3.5 1.4 0.3]\n",
      " [5.7 3.8 1.7 0.3]\n",
      " [5.1 3.8 1.5 0.3]\n",
      " [5.4 3.4 1.7 0.2]\n",
      " [5.1 3.7 1.5 0.4]\n",
      " [4.6 3.6 1.  0.2]\n",
      " [5.1 3.3 1.7 0.5]\n",
      " [4.8 3.4 1.9 0.2]\n",
      " [5.  3.  1.6 0.2]\n",
      " [5.  3.4 1.6 0.4]\n",
      " [5.2 3.5 1.5 0.2]\n",
      " [5.2 3.4 1.4 0.2]\n",
      " [4.7 3.2 1.6 0.2]\n",
      " [4.8 3.1 1.6 0.2]\n",
      " [5.4 3.4 1.5 0.4]\n",
      " [5.2 4.1 1.5 0.1]\n",
      " [5.5 4.2 1.4 0.2]\n",
      " [4.9 3.1 1.5 0.2]\n",
      " [5.  3.2 1.2 0.2]\n",
      " [5.5 3.5 1.3 0.2]\n",
      " [4.9 3.6 1.4 0.1]\n",
      " [4.4 3.  1.3 0.2]\n",
      " [5.1 3.4 1.5 0.2]\n",
      " [5.  3.5 1.3 0.3]\n",
      " [4.5 2.3 1.3 0.3]\n",
      " [4.4 3.2 1.3 0.2]\n",
      " [5.  3.5 1.6 0.6]\n",
      " [5.1 3.8 1.9 0.4]\n",
      " [4.8 3.  1.4 0.3]\n",
      " [5.1 3.8 1.6 0.2]\n",
      " [4.6 3.2 1.4 0.2]\n",
      " [5.3 3.7 1.5 0.2]\n",
      " [5.  3.3 1.4 0.2]]\n"
     ]
    }
   ],
   "source": [
    "print(\"First five flowers: \\n\", iris.data[:5, :])\n",
    "print(\"Their labels: \", iris.target[:5])\n",
    "print(\"And the label names: \", iris.target_names)\n",
    "\n",
    "last_five_flowers = None\n",
    "third_feature_only = None\n",
    "first_ten_names = None\n",
    "# START ANSWER\n",
    "last_five_flowers = iris.data[-5:, :]\n",
    "third_feature_only = iris.data[:, 2]\n",
    "first_ten_names = np.array([iris.target_names[iris.target[i]] for i in range(10)])\n",
    "# END ANSWER\n",
    "\n",
    "setosa_flowers = None\n",
    "versicolor_flowers = None\n",
    "virginica_flowers = None\n",
    "# START ANSWER\n",
    "setosa_indices = np.where(iris.target == 0)[0]\n",
    "versicolor_indices = np.where(iris.target == 1)[0]\n",
    "virginica_indices = np.where(iris.target == 2)[0]\n",
    "\n",
    "setosa_flowers = np.array([iris.data[i] for i in setosa_indices])\n",
    "versicolor_flowers = np.array([iris.data[i] for i in versicolor_indices])\n",
    "virginica_flowers = np.array([iris.data[i] for i in virginica_indices])\n",
    "# END ANSWER\n",
    "\n",
    "\n",
    "print(\"Last five flowers: \\n\", last_five_flowers)\n",
    "print(\"Only the third feature: \", third_feature_only)\n",
    "print(\"All label names: \", first_ten_names)\n",
    " \n",
    "print(\"Class: \", iris.target_names[0], \"; Items: \\n\", setosa_flowers)\n",
    "\n",
    "assert last_five_flowers.shape == (5,4), \"Expected a two dimensional array of shape (5,4)\"\n",
    "assert third_feature_only.shape == (150,), \"Expected an array of shape (150,)\"\n",
    "assert first_ten_names.shape == (10,), \"Expected an array of shape (10,)\"\n",
    "\n",
    "assert setosa_flowers.shape == (50,4), \"Expected a two dimensional array of shape (50,4)\"\n",
    "assert versicolor_flowers.shape == (50,4), \"Expected a two dimensional array of shape (50,4)\"\n",
    "assert virginica_flowers.shape == (50,4), \"Expected a two dimensional array of shape (50,4)\""
   ]
  },
  {
   "cell_type": "markdown",
   "metadata": {},
   "source": [
    "Next, to get an idea of the distribution of our data, we can make plots.\n",
    "\n",
    "$\\ex{1.2}$ Run the following code to plot the petal length and width of each flower as a scatterplot. Inspect the code carefully, as you will need to write your own code for plotting later on."
   ]
  },
  {
   "cell_type": "code",
   "execution_count": 17,
   "metadata": {},
   "outputs": [
    {
     "data": {
      "image/png": "[encoded data removed]",
      "text/plain": [
       "<Figure size 432x288 with 1 Axes>"
      ]
     },
     "metadata": {
      "needs_background": "light"
     },
     "output_type": "display_data"
    },
    {
     "data": {
      "image/png": "[encoded data removed]",
      "text/plain": [
       "<Figure size 432x288 with 1 Axes>"
      ]
     },
     "metadata": {
      "needs_background": "light"
     },
     "output_type": "display_data"
    }
   ],
   "source": [
    "# From the Matplotlib library, import pyplot. We will refer to this library later as plt.\n",
    "# This is a widely used library that lets you create images and plot your data.\n",
    "from matplotlib import pyplot as plt\n",
    "\n",
    "# Create a scatterplot of the first two features, and use their labels as colour values.\n",
    "plt.scatter(iris.data[:, 0], iris.data[:, 1], c=iris.target)\n",
    "plt.xlabel(iris.feature_names[0])\n",
    "plt.ylabel(iris.feature_names[1])\n",
    "plt.show()\n",
    "# Create a scatterplot of the third and fourth feature.\n",
    "plt.scatter(iris.data[:, 2], iris.data[:, 3], c=iris.target)\n",
    "plt.xlabel(iris.feature_names[2])\n",
    "plt.ylabel(iris.feature_names[3])\n",
    "plt.show()"
   ]
  },
  {
   "cell_type": "markdown",
   "metadata": {},
   "source": [
    "$\\q{1.1}$ How are the points distributed? Could you fit a probability distribution that you know on this data (e.g. uniform, normal, etc.)?"
   ]
  },
  {
   "cell_type": "markdown",
   "metadata": {},
   "source": [
    "## 2. Test sets\n",
    "\n",
    "Now that we have an idea what our dataset looks like, our goal is to create a model that will predict the class of each flower based on its features. In order to evaluate how well the model fits, we will also need a separate test set where we can evaluate our final model on. For this, we will split the data randomly in a train and test set.\n",
    "\n",
    "$\\ex{2.1}$ Use the code below to split the dataset into a train and validation set."
   ]
  },
  {
   "cell_type": "code",
   "execution_count": 50,
   "metadata": {},
   "outputs": [
    {
     "name": "stdout",
     "output_type": "stream",
     "text": [
      "[0 0 0 2 0 2 2 0 2 1 1 1 0 0 1 1 1 1 1 1 1 0 1 1 0 0 1 1 1 0 0 2 0 0 1 2 2\n",
      " 2 2 2 2 1 2 2 2 0 2 0 0 0 2 1 1 2 2 1 0 2 0 1 2 0 1 1 2 0 0 2 2 1 1 1 2 2\n",
      " 0 2 0 1 0 0 2 2 2 0 0 2 1 1 2 0 2 0 0 2 2 0 0 0 2 1 0 1 2 0 1]\n"
     ]
    },
    {
     "data": {
      "text/plain": [
       "((37, 4), (32, 4), (36, 4))"
      ]
     },
     "execution_count": 50,
     "metadata": {},
     "output_type": "execute_result"
    }
   ],
   "source": [
    "from sklearn.model_selection import train_test_split #to split in train and test set\n",
    "\n",
    "# load the data and create the training and test sets\n",
    "iris = datasets.load_iris()\n",
    "# X is the feature vectors for the data points, and Y is the target (ground truth) class for those data points \n",
    "# the iris.data and iris.target entries are randomly divided into training and test sets.\n",
    "X_train, X_test, Y_train, Y_test = train_test_split(iris.data, iris.target, test_size=0.3, random_state=20)\n",
    "\n",
    "# Due to the randomness of the split, number of each flowers is not necessarily the same\n",
    "# Separate the training dataset into the three flower types.\n",
    "setosa_X_train = None\n",
    "versicolor_X_train = None\n",
    "virginica_X_train = None\n",
    "# START ANSWER\n",
    "setosa_indices = np.where(Y_train == 0)[0]\n",
    "setosa_X_train = np.array([X_train[i] for i in setosa_indices])\n",
    "\n",
    "versicolor_indices = np.where(Y_train == 1)[0]\n",
    "versicolor_X_train = np.array([X_train[i] for i in versicolor_indices])\n",
    "\n",
    "virginica_indices = np.where(Y_train == 2)[0]\n",
    "virginica_X_train = np.array([X_train[i] for i in virginica_indices])\n",
    "\n",
    "print(Y_train)\n",
    "# END ANSWER\n",
    "\n",
    "assert setosa_X_train.shape[0] != versicolor_X_train.shape[0]\n",
    "assert setosa_X_train.shape[0] != virginica_X_train.shape[0]\n",
    "assert versicolor_X_train.shape[0] != virginica_X_train.shape[0]\n",
    "\n",
    "setosa_X_train.shape, versicolor_X_train.shape, virginica_X_train.shape"
   ]
  },
  {
   "cell_type": "markdown",
   "metadata": {},
   "source": [
    "## 3. Univariate model\n",
    "\n",
    "Looking at the plots of the data from the previous section, you might assume that separating the different classes would be a lot easier based on the petal data (3rd and 4th variable) than on the sepal data (1st and 2nd variable), as it is easier to distinguish the different clusters in that plot. In fact, for now we will only focus on one variable, the petal length (3rd feature), as it looks like it might be useful just on its own and this will simplify the model a lot."
   ]
  },
  {
   "cell_type": "code",
   "execution_count": 27,
   "metadata": {},
   "outputs": [],
   "source": [
    "# We use the third feature\n",
    "feature_idx = 2"
   ]
  },
  {
   "cell_type": "markdown",
   "metadata": {},
   "source": [
    "Let's first take a look at the distribution of all flowers (both train and test) along this feature to confirm that our assumption of a normal distribution is correct. Take a look at the ditribution of the other features as well."
   ]
  },
  {
   "cell_type": "code",
   "execution_count": 31,
   "metadata": {},
   "outputs": [
    {
     "data": {
      "image/png": "[encoded data removed]",
      "text/plain": [
       "<Figure size 432x288 with 1 Axes>"
      ]
     },
     "metadata": {
      "needs_background": "light"
     },
     "output_type": "display_data"
    }
   ],
   "source": [
    "plt.hist(setosa_flowers[:,feature_idx], label=iris.target_names[0])\n",
    "plt.hist(versicolor_flowers[:,feature_idx], label=iris.target_names[1])\n",
    "plt.hist(virginica_flowers[:,feature_idx], label=iris.target_names[2])\n",
    "\n",
    "\n",
    "plt.xlabel(iris.feature_names[feature_idx])\n",
    "plt.ylabel('Number of flowers')\n",
    "plt.legend()\n",
    "plt.show()"
   ]
  },
  {
   "cell_type": "markdown",
   "metadata": {},
   "source": [
    "That looks about correct! Now, let's find the parameters of the normal distribution that describe our data best. The parameters that we need to describe the distribution are the _mean_ and _standard deviation_.\n",
    "\n",
    "$\\ex{3.1}$ Using the training data from each of 3 classes, compute the mean ($\\mu$) and standard deviation ($\\sigma$) for the *petal length* attribute. The Maximum Likelihood Estimators for these are given by\n",
    "\n",
    "(3.1) $$\\mu = \\frac{\\sum_{t=1}^Nx^t}{N}$$\n",
    "\n",
    "(3.2) $$\\sigma = \\sqrt{\\frac{\\sum_{t=1}^N(x^t - m)^2}{N}}$$\n",
    "\n",
    "__Hint__ Try to use numpy's functions to perform operations on your input (e.g. `np.sum`, `np.sqrt`)"
   ]
  },
  {
   "cell_type": "code",
   "execution_count": 37,
   "metadata": {},
   "outputs": [
    {
     "name": "stdout",
     "output_type": "stream",
     "text": [
      "setosa 1.4729729729729728 0.17652600857089654\n",
      "versicolor 4.25 0.44300112866673375\n",
      "virginica 5.572222222222222 0.547017728288333\n"
     ]
    }
   ],
   "source": [
    "def compute_mean(x):\n",
    "    mean = 0\n",
    "    # START ANSWER\n",
    "    mean = np.sum(x)/len(x)\n",
    "    # END ANSWER\n",
    "    return mean\n",
    "    \n",
    "def compute_sd(x, mean):\n",
    "    sd = 0\n",
    "    # START ANSWER\n",
    "    a = np.array([(x[i] - mean)**2 for i in range(len(x))])\n",
    "    sd = np.sqrt((np.sum(a))/len(x))\n",
    "    # END ANSWER\n",
    "    return sd\n",
    "\n",
    "# Compute the mean for each flower type.\n",
    "mean_setosa = compute_mean(setosa_X_train[:, feature_idx])\n",
    "mean_versicolor = compute_mean(versicolor_X_train[:, feature_idx])\n",
    "mean_virginica = compute_mean(virginica_X_train[:, feature_idx])\n",
    "\n",
    "# Compute the standard deviation for each flower type.\n",
    "sd_setosa = compute_sd(setosa_X_train[:, feature_idx], mean_setosa)\n",
    "sd_versicolor = compute_sd(versicolor_X_train[:, feature_idx], mean_versicolor)\n",
    "sd_virginica = compute_sd(virginica_X_train[:, feature_idx], mean_virginica)\n",
    "\n",
    "# Print the computed means and standard deviations.\n",
    "print(\"setosa\", mean_setosa, sd_setosa)\n",
    "print(\"versicolor\", mean_versicolor, sd_versicolor)\n",
    "print(\"virginica\", mean_virginica, sd_virginica)\n",
    "\n",
    "assert np.isclose(mean_setosa, 1.4729729729729728), \"Expected a different mean\"\n",
    "assert np.isclose(mean_versicolor, 4.25), \"Expected a different mean\"\n",
    "assert np.isclose(mean_virginica, 5.572222222222222), \"Expected a different mean\"\n",
    "\n",
    "assert np.isclose(sd_setosa, 0.17652600857089654), \"Expected a different standard deviation\"\n",
    "assert np.isclose(sd_versicolor, 0.44300112866673375), \"Expected a different standard deviation\"\n",
    "assert np.isclose(sd_virginica, 0.547017728288333), \"Expected a different standard deviation\""
   ]
  },
  {
   "cell_type": "markdown",
   "metadata": {},
   "source": [
    "$\\q{3.1}$ Do these mean values and standard deviations correspond to the histograms that we plotted? If not, try to fix your code."
   ]
  },
  {
   "cell_type": "markdown",
   "metadata": {},
   "source": [
    "## 4. Probability density function\n",
    "\n",
    "The probability density function for a Gaussian distribution is defined as\n",
    "\n",
    "(4.1) $$p(x|\\mu, \\sigma)=\\frac{1}{\\sqrt{2\\pi\\sigma^2}} e^{-\\frac{(x - \\mu)^2}{2\\sigma^2}}$$\n",
    "\n",
    "That means that if we have estimates for $\\mu$ and $\\sigma$, we can compute the probability density for a specific value $x$.\n",
    "\n",
    "$\\ex{4.1}$ Implement the `normal_PDF` function below. Given `x`, `mean`, and `sd`, we want to return the result of $p(x|\\mu, \\sigma)$. Your PDF is plotted. You can play around with different configurations of `mean` and `sd` to see how these parameters influence your normal distribution.\n",
    "\n",
    "**NOTE:** This normal distribution should look similar to the normal distribution at chapter 0. (This normal distribution does have a different mean and standard deviation)."
   ]
  },
  {
   "cell_type": "code",
   "execution_count": 41,
   "metadata": {},
   "outputs": [
    {
     "name": "stdout",
     "output_type": "stream",
     "text": [
      "Your pdf function outcome:  0.09296377346744224  Scipy's function outcome:  0.09296377346744224\n"
     ]
    },
    {
     "data": {
      "image/png": "[encoded data removed]",
      "text/plain": [
       "<Figure size 432x288 with 1 Axes>"
      ]
     },
     "metadata": {
      "needs_background": "light"
     },
     "output_type": "display_data"
    }
   ],
   "source": [
    "from scipy.stats import norm\n",
    "\n",
    "def normal_PDF(x, mean, sd):\n",
    "    pdf = 0\n",
    "    # START ANSWER\n",
    "    constant = 1/(np.sqrt(2*np.pi*(sd**2)))\n",
    "    exponent =  np.exp(-1*((x-mean)**2/(2*(sd)**2)))\n",
    "    pdf = constant * exponent\n",
    "    # END ANSWER\n",
    "    return pdf\n",
    "\n",
    "# Set x, mean and standard deviation\n",
    "x = 0.5\n",
    "mean = 2\n",
    "sd = 4\n",
    "my_pdf = normal_PDF(x, mean, sd)\n",
    "\n",
    "# You can compare your outcome to scipy's built-in normal PDF\n",
    "scipy_pdf = norm.pdf(x, mean, sd)\n",
    "print(\"Your pdf function outcome: \", my_pdf, \" Scipy's function outcome: \", scipy_pdf)\n",
    "assert np.isclose(my_pdf, scipy_pdf)\n",
    "\n",
    "# And we plot the result of your PDF function for 100 points between 0 and 4: np.linspace(0, 4, 100)\n",
    "xs = np.linspace(0, 4, 100)\n",
    "plt.plot(xs, normal_PDF(xs, mean, sd))\n",
    "plt.show()"
   ]
  },
  {
   "cell_type": "markdown",
   "metadata": {},
   "source": [
    "We already made estimates for $\\mu$ and $\\sigma$ for the *petal length* for each of the 3 classes, so we can now also define PDFs for each separate class.\n",
    "\n",
    "$\\ex{4.2}$ Plot the 3 functions using [linspace](https://docs.scipy.org/doc/numpy-1.10.0/reference/generated/numpy.linspace.html) for a range of x-values aside the histograms of the classes."
   ]
  },
  {
   "cell_type": "code",
   "execution_count": 55,
   "metadata": {},
   "outputs": [
    {
     "data": {
      "image/png": "[encoded data removed]",
      "text/plain": [
       "<Figure size 432x288 with 1 Axes>"
      ]
     },
     "metadata": {
      "needs_background": "light"
     },
     "output_type": "display_data"
    }
   ],
   "source": [
    "# Histograms of the flower types of the training set\n",
    "plt.hist(setosa_X_train[:,feature_idx], label=iris.target_names[0])\n",
    "plt.hist(versicolor_X_train[:,feature_idx], label=iris.target_names[1])\n",
    "plt.hist(virginica_X_train[:,feature_idx], label=iris.target_names[2])\n",
    "\n",
    "# Plot your PDFs here\n",
    "xs = np.linspace(0, 7, 100)\n",
    "# START ANSWER\n",
    "plt.plot(xs, normal_PDF(xs, mean_setosa, sd_setosa))\n",
    "plt.plot(xs, normal_PDF(xs, mean_versicolor, sd_versicolor))\n",
    "plt.plot(xs, normal_PDF(xs, mean_virginica, sd_virginica))\n",
    "# END ANSWER\n",
    "\n",
    "plt.xlabel(iris.feature_names[feature_idx])\n",
    "plt.ylabel('Number of flowers / PDF')\n",
    "plt.legend()\n",
    "plt.show()"
   ]
  },
  {
   "cell_type": "markdown",
   "metadata": {},
   "source": [
    "$\\q{4.1}$ Do your distributions and the histogram overlap? In what ways are the histogram and the probability distributions different?\n",
    "\n",
    "__Hint__ The histogram shows the number of flowers that have a petal length within a certain window (bin). That means the values shown in the histogram are absolute counts."
   ]
  },
  {
   "cell_type": "markdown",
   "metadata": {},
   "source": [
    "## 5. Posterior probabilities\n",
    "\n",
    "The plot above shows the probability densities for a feature $x$. For a normal distributed feature of a class $C_i$, you only need to know the mean and the standard deviation to be able to determine the probability of obtaining that data point $x$, i.e. $p(x | \\mu_i, \\sigma_i)$ or $p(x | C_i)$. So, $p(x | C_i)$ is the probability density of observing $x$ knowing that the datapoint comes from $C_i$.\n",
    "\n",
    "- The prior probabillity is the probability density of a certain class $C_i$, without having any observations (knowledge); $p(C_i)$.\n",
    "- The posterior probabillity is the probability density of a certain class $C_i$, knowing a datapoint $x$ you observed; $p(C_i | x)$.\n",
    "\n",
    "$\\q{5.1}$ Stop for a moment to try and understand what this probability means: $p(x | C_i)$.\n",
    "\n",
    "__Hint__ The $|$ sign in $p(x | C_i)$ means: given that.\n",
    "\n",
    "\n",
    "However, what would be useful for classification, is the posterior probabilities of the classes given the data, i.e. $P(C_i | x)$.\n",
    "\n",
    "$\\q{5.2}$ Can you explain this mathematical formulation in your own words?\n",
    "\n",
    "$\\q{5.3}$ Why is it helpful to know the posterior probability?\n",
    "\n",
    "__Hint__ What information do we have for test points coming in?\n",
    "\n",
    "\n",
    "To get the posterior probability, we can use Bayes' rule:\n",
    "\n",
    "(5.1) $$P(C_i | x) =  \\frac{p(x | C_i) P(C_i)}{p(x)} = \\frac{p(x | C_i) P(C_i)}{\\sum_{k=1}^K p(x | C_k) P(C_k)}$$\n",
    "\n",
    "We will construct our classifier such that, after observing a datapoint $x$, we assign the point to the class $C_i$ with the higest $P(C_i | x)$, so to the class which is most likely.\n",
    "\n",
    "$\\ex{5.1}$ Finish the code to compute the posterior probability of a point $x$, given the mean, standard deviation, and class index.\n",
    "\n",
    "__Hint__ The mean and standard deviation are given as arrays. You can access the mean for class `i` with `mean[i]`."
   ]
  },
  {
   "cell_type": "code",
   "execution_count": 46,
   "metadata": {},
   "outputs": [
    {
     "name": "stdout",
     "output_type": "stream",
     "text": [
      "Flower belongs to class virginica\n",
      "Posterior probability for class setosa :  1.1048294835009998e-107\n",
      "Posterior probability for class versicolor :  0.03817178391547811\n",
      "Posterior probability for class virginica :  0.9618282160845218\n"
     ]
    }
   ],
   "source": [
    "def posterior(x, means, sds, priors, i):\n",
    "    \"\"\"\n",
    "    Compute the posterior probability P(C_i | x).\n",
    "    :param x: the sample to compute the posterior probability for.\n",
    "    :param means: an array of means for each class.\n",
    "    :param sds: an array of standard deviation values for each class.\n",
    "    :param priors: an array of frequencies for each class.\n",
    "    :param i: the index of the class to compute the posterior probability for.\n",
    "    \"\"\"\n",
    "    posterior = 0\n",
    "    # START ANSWER\n",
    "    sum = 0\n",
    "    for j in range(len(iris.target_names)):\n",
    "        class_conditional_probability = normal_PDF(x, means[j], sds[j])\n",
    "        prior_probability = priors[j]\n",
    "        sum = sum + (class_conditional_probability * prior_probability)\n",
    "    \n",
    "    class_conditional_probability_i = normal_PDF(x, means[i], sds[i])\n",
    "    prior_probability_i = priors[i]\n",
    "    \n",
    "    posterior = (class_conditional_probability_i * prior_probability_i)/sum\n",
    "    #END ANSWER\n",
    "    return posterior\n",
    "\n",
    "means = [mean_setosa, mean_versicolor, mean_virginica]\n",
    "sds = [sd_setosa, sd_versicolor, sd_virginica]\n",
    "priors = [\n",
    "    setosa_X_train.shape[0]/X_train.shape[0],\n",
    "    versicolor_X_train.shape[0]/X_train.shape[0],\n",
    "    virginica_X_train.shape[0]/X_train.shape[0]\n",
    "]\n",
    "\n",
    "# Test out the code\n",
    "flower_idx = 6\n",
    "print(\"Flower belongs to class\", iris.target_names[Y_train[flower_idx]])\n",
    "\n",
    "# iterate over all classes\n",
    "for i in range(3):\n",
    "    x_post = posterior(X_train[flower_idx, feature_idx], means, sds, priors, i)\n",
    "    print(\"Posterior probability for class\", iris.target_names[i], \": \", x_post)\n",
    "\n",
    "post_setosa = posterior(X_train[flower_idx, feature_idx], means, sds, priors, 0)\n",
    "post_versicolor = posterior(X_train[flower_idx, feature_idx], means, sds, priors, 1)\n",
    "post_virginica = posterior(X_train[flower_idx, feature_idx], means, sds, priors, 2)\n",
    "\n",
    "assert np.isclose(post_setosa, 1.1048294835009998e-107, rtol = 0.0001, atol = 0.), \"Expected a different posterior probability\"\n",
    "assert np.isclose(post_versicolor, 0.03817178391547811, rtol = 0.0001, atol = 0.), \"Expected a different posterior probability\"\n",
    "assert np.isclose(post_virginica, 0.9618282160845218, rtol = 0.0001, atol = 0.), \"Expected a different posterior probability\""
   ]
  },
  {
   "cell_type": "markdown",
   "metadata": {},
   "source": [
    "$\\ex{5.2}$ Plot the posterior probabilities for all 3 classes. Does the plot of these 3 posteriors make sense based on the data?"
   ]
  },
  {
   "cell_type": "code",
   "execution_count": 47,
   "metadata": {},
   "outputs": [
    {
     "name": "stderr",
     "output_type": "stream",
     "text": [
      "No handles with labels found to put in legend.\n"
     ]
    },
    {
     "data": {
      "image/png": "[encoded data removed]",
      "text/plain": [
       "<Figure size 432x288 with 1 Axes>"
      ]
     },
     "metadata": {
      "needs_background": "light"
     },
     "output_type": "display_data"
    }
   ],
   "source": [
    "xs = np.linspace(0, 7, 100)\n",
    "# START ANSWER\n",
    "plt.plot(xs, posterior(xs, means, sds, priors, i))\n",
    "# END ANSWER\n",
    "plt.xlabel(iris.feature_names[feature_idx])\n",
    "plt.ylabel('Posterior probability')\n",
    "plt.legend()\n",
    "plt.show()"
   ]
  },
  {
   "cell_type": "markdown",
   "metadata": {},
   "source": [
    "$\\q{5.4}$ Where would you put the decision boundary for each class? In other words: where would you draw the line, separating each class. Could you formulate this mathematically?"
   ]
  },
  {
   "cell_type": "markdown",
   "metadata": {},
   "source": [
    "## 6. Bayes Classifier\n",
    "\n",
    "Now that we can compute the posteriors for every class, constructing a classifier is easy. The Bayes classifier is defined as\n",
    "\n",
    "- Classify as $C_i$ for which: $i = argmax_i\\ P(C_i |x)$\n",
    "\n",
    "$\\ex{6.1}$ Write the code for the `classify` function. It should classify a single data point $x$ as one of the 3 classes, returning $0$, $1$ or $2$ based on the class the flower is most likely to belong to. The other arguments of the function should therefore be the vector of mean estimates `means` and the vector of standard deviation estimates `sds`, the class distribution `priors` and index `i` corresponds to class $C_i$."
   ]
  },
  {
   "cell_type": "code",
   "execution_count": 54,
   "metadata": {},
   "outputs": [
    {
     "name": "stdout",
     "output_type": "stream",
     "text": [
      "Predicted class ['virginica' 'versicolor' 'setosa']\n",
      "Flower belongs to class ['virginica' 'versicolor' 'setosa']\n"
     ]
    }
   ],
   "source": [
    "def classify(x, means, sds, priors):\n",
    "    classification = -1\n",
    "    # START ANSWER\n",
    "    post_setosa = posterior(x, means, sds, priors, 0)\n",
    "    post_versicolor = posterior(x, means, sds, priors, 1)\n",
    "    post_virginica = posterior(x, means, sds, priors, 2)\n",
    "    posterior_prob_array = np.array([post_setosa, post_versicolor, post_virginica])\n",
    "    classification = np.argmax(posterior_prob_array)\n",
    "    # END ANSWER\n",
    "    return classification\n",
    "\n",
    "# Test out the code\n",
    "flower_idxs = [5,20,30]\n",
    "predicted_classes = np.zeros(3, dtype=np.int64)\n",
    "for i, flower_idx in enumerate(flower_idxs):\n",
    "    predicted_classes[i] = classify(X_train[flower_idx, feature_idx], means, sds, priors)\n",
    "\n",
    "print(\"Predicted class\", iris.target_names[predicted_classes])\n",
    "print(\"Flower belongs to class\", iris.target_names[Y_train[flower_idxs]])\n",
    "assert (predicted_classes == Y_train[flower_idxs]).all()"
   ]
  },
  {
   "cell_type": "markdown",
   "metadata": {},
   "source": [
    "$\\ex{6.2}$ Finally, complete the `evaluate` function below. It should take a test set, the expected classes (ground truth; correct classifications of each element in the test set) and the vectors `means`, `sds` and `priors`. The function calculates the classifications (decides which class each point belongs to) based on the distributions learnt from the training set. The function should return the percentage of elements in the test set that were classified correctly.\n",
    "\n",
    "**Note** We only use the testset now to be able to make an unbiased estimation of the quality of the classifier. If we would include the testset in our training data, the evaluation would not be fair as knowledge of the test data would be included in the model.\n",
    "\n",
    "__Hint__ You will only need to use the *petal length* variable from each data point to attempt to classify it (since that is how we trained our model)."
   ]
  },
  {
   "cell_type": "code",
   "execution_count": 61,
   "metadata": {},
   "outputs": [
    {
     "name": "stdout",
     "output_type": "stream",
     "text": [
      "0.9555555555555556\n"
     ]
    }
   ],
   "source": [
    "def evaluate(X_test, Y_test, means, sds, priors):\n",
    "    accuracy = 0\n",
    "    # START ANSWER\n",
    "    correct_predictions = 0\n",
    "    for i in range(len(X_test)):\n",
    "        classification = classify(X_test[i], means, sds, priors)\n",
    "        if(classification == Y_test[i]):\n",
    "            correct_predictions+=1\n",
    "    \n",
    "    accuracy = correct_predictions/len(X_test)\n",
    "    # END ANSWER\n",
    "    return accuracy\n",
    "\n",
    "accuracy = evaluate(X_test[:, feature_idx], Y_test, means, sds, priors)\n",
    "\n",
    "print(accuracy)\n",
    "assert accuracy > 0.9, \"Expected a higher accuracy\""
   ]
  },
  {
   "cell_type": "markdown",
   "metadata": {},
   "source": [
    "Let's return to our scatterplots and see how your classifier makes decisions. For this, we also plot the decision boundary. The function to create the decision boundaries does this in a very simple way:\n",
    "- For each class, compute the posterior for 1000 points between 1 and 7\n",
    "- If for any two classes the posteriors are as good as equal (and not very close to 0) at a point, add that point to the list of decision boundaries\n",
    "- Plot vertical lines at these points\n",
    "\n",
    "$\\q{6.1}$ This method is quite complicated. Could you analytically solve the equations?\n",
    "\n",
    "__Hint__ You have to find the $x$ for which the class probabilities are equal. You can formulate this equality with the probability functions and solve that equation."
   ]
  },
  {
   "cell_type": "code",
   "execution_count": 67,
   "metadata": {},
   "outputs": [
    {
     "name": "stdout",
     "output_type": "stream",
     "text": [
      "[2.56446512e-11 2.58710441e-11 2.61248631e-11 2.64068743e-11\n",
      " 2.67179345e-11 2.70589955e-11 2.74311092e-11 2.78354326e-11\n",
      " 2.82732341e-11 2.87459001e-11 2.92549420e-11 2.98020047e-11\n",
      " 3.03888751e-11 3.10174920e-11 3.16899562e-11 3.24085431e-11\n",
      " 3.31757146e-11 3.39941331e-11 3.48666774e-11 3.57964587e-11\n",
      " 3.67868391e-11 3.78414517e-11 3.89642224e-11 4.01593935e-11\n",
      " 4.14315505e-11 4.27856500e-11 4.42270518e-11 4.57615529e-11\n",
      " 4.73954253e-11 4.91354575e-11 5.09889996e-11 5.29640134e-11\n",
      " 5.50691267e-11 5.73136940e-11 5.97078618e-11 6.22626421e-11\n",
      " 6.49899915e-11 6.79029000e-11 7.10154875e-11 7.43431110e-11\n",
      " 7.79024824e-11 8.17117988e-11 8.57908859e-11 9.01613576e-11\n",
      " 9.48467906e-11 9.98729194e-11 1.05267851e-10 1.11062304e-10\n",
      " 1.17289871e-10 1.23987312e-10 1.31194881e-10 1.38956684e-10\n",
      " 1.47321083e-10 1.56341139e-10 1.66075109e-10 1.76587001e-10\n",
      " 1.87947184e-10 2.00233078e-10 2.13529917e-10 2.27931604e-10\n",
      " 2.43541664e-10 2.60474313e-10 2.78855645e-10 2.98824972e-10\n",
      " 3.20536317e-10 3.44160089e-10 3.69884962e-10 3.97919987e-10\n",
      " 4.28496955e-10 4.61873063e-10 4.98333906e-10 5.38196844e-10\n",
      " 5.81814800e-10 6.29580532e-10 6.81931456e-10 7.39355087e-10\n",
      " 8.02395186e-10 8.71658705e-10 9.47823641e-10 1.03164793e-09\n",
      " 1.12397950e-09 1.22576772e-09 1.33807629e-09 1.46209799e-09\n",
      " 1.59917132e-09 1.75079949e-09 1.91867201e-09 2.10468922e-09\n",
      " 2.31099029e-09 2.53998512e-09 2.79439072e-09 3.07727280e-09\n",
      " 3.39209318e-09 3.74276411e-09 4.13371040e-09 4.56994051e-09\n",
      " 5.05712808e-09 5.60170543e-09 6.21097083e-09 6.89321175e-09\n",
      " 7.65784651e-09 8.51558725e-09 9.47862751e-09 1.05608584e-08\n",
      " 1.17781176e-08 1.31484774e-08 1.46925761e-08 1.64340022e-08\n",
      " 1.83997381e-08 2.06206737e-08 2.31322015e-08 2.59749063e-08\n",
      " 2.91953658e-08 3.28470794e-08 3.69915481e-08 4.16995301e-08\n",
      " 4.70525021e-08 5.31443614e-08 6.00834095e-08 6.79946674e-08\n",
      " 7.70225771e-08 8.73341594e-08 9.91227063e-08 1.12612102e-07\n",
      " 1.28061883e-07 1.45773175e-07 1.66095645e-07 1.89435682e-07\n",
      " 2.16265993e-07 2.47136896e-07 2.82689610e-07 3.23671910e-07\n",
      " 3.70956581e-07 4.25563189e-07 4.88683789e-07 5.61713310e-07\n",
      " 6.46285481e-07 7.44315369e-07 8.58049761e-07 9.90126907e-07\n",
      " 1.14364741e-06 1.32225839e-06 1.53025360e-06 1.77269240e-06\n",
      " 2.05554148e-06 2.38584372e-06 2.77191958e-06 3.22360735e-06\n",
      " 3.75255031e-06 4.37253987e-06 5.09992623e-06 5.95411013e-06\n",
      " 6.95813218e-06 8.13937985e-06 9.53043615e-06 1.11700993e-05\n",
      " 1.31046092e-05 1.53891229e-05 1.80894928e-05 2.12844094e-05\n",
      " 2.50679876e-05 2.95528890e-05 3.48740958e-05 4.11934765e-05\n",
      " 4.87053114e-05 5.76429889e-05 6.82871246e-05 8.09754145e-05\n",
      " 9.61146030e-05 1.14195030e-04 1.35808328e-04 1.61668967e-04\n",
      " 1.92640507e-04 2.29767604e-04 2.74315066e-04 3.27815544e-04\n",
      " 3.92127800e-04 4.69507949e-04 5.62696613e-04 6.75025590e-04\n",
      " 8.10548473e-04 9.74200651e-04 1.17199535e-03 1.41126382e-03\n",
      " 1.70094972e-03 2.05196958e-03 2.47765424e-03 2.99428881e-03\n",
      " 3.62177228e-03 4.38442212e-03 5.31195310e-03 6.44066462e-03\n",
      " 7.81487464e-03 9.48864214e-03 1.15278212e-02 1.40124873e-02\n",
      " 1.70397669e-02 2.07270820e-02 2.52157825e-02 3.06750780e-02\n",
      " 3.73060813e-02 4.53456273e-02 5.50693229e-02 6.67930014e-02\n",
      " 8.08714091e-02 9.76925685e-02 1.17665922e-01 1.41202208e-01\n",
      " 1.68683304e-01 2.00421251e-01 2.36607701e-01 2.77258097e-01\n",
      " 3.22158694e-01 3.70827960e-01 4.22505240e-01 4.76177079e-01\n",
      " 5.30644544e-01 5.84624578e-01 6.36868394e-01 6.86274398e-01\n",
      " 7.31974646e-01 7.73381815e-01 8.10194540e-01 8.42368421e-01\n",
      " 8.70065344e-01 8.93594334e-01 9.13354562e-01 9.29787058e-01\n",
      " 9.43337918e-01 9.54433002e-01 9.63462537e-01 9.70773416e-01\n",
      " 9.76666955e-01 9.81400219e-01 9.85189434e-01 9.88214436e-01\n",
      " 9.90623442e-01 9.92537716e-01 9.94055874e-01 9.95257717e-01\n",
      " 9.96207554e-01 9.96957030e-01 9.97547497e-01 9.98011979e-01\n",
      " 9.98376793e-01 9.98662868e-01 9.98886818e-01 9.99061814e-01\n",
      " 9.99198275e-01 9.99304440e-01 9.99386809e-01 9.99450505e-01\n",
      " 9.99499564e-01 9.99537158e-01 9.99565779e-01 9.99587383e-01\n",
      " 9.99603502e-01 9.99615336e-01 9.99623823e-01 9.99629697e-01\n",
      " 9.99633528e-01 9.99635763e-01 9.99636748e-01 9.99636753e-01\n",
      " 9.99635989e-01 9.99634616e-01 9.99632762e-01 9.99630523e-01\n",
      " 9.99627975e-01 9.99625174e-01 9.99622167e-01 9.99618986e-01\n",
      " 9.99615658e-01 9.99612203e-01 9.99608635e-01 9.99604966e-01\n",
      " 9.99601204e-01 9.99597356e-01 9.99593426e-01 9.99589416e-01\n",
      " 9.99585330e-01 9.99581168e-01 9.99576930e-01 9.99572618e-01\n",
      " 9.99568231e-01 9.99563769e-01 9.99559230e-01 9.99554615e-01\n",
      " 9.99549921e-01 9.99545148e-01 9.99540295e-01 9.99535361e-01\n",
      " 9.99530343e-01 9.99525241e-01 9.99520052e-01 9.99514777e-01\n",
      " 9.99509412e-01 9.99503956e-01 9.99498408e-01 9.99492766e-01\n",
      " 9.99487028e-01 9.99481193e-01 9.99475257e-01 9.99469221e-01\n",
      " 9.99463081e-01 9.99456835e-01 9.99450482e-01 9.99444020e-01\n",
      " 9.99437446e-01 9.99430759e-01 9.99423956e-01 9.99417035e-01\n",
      " 9.99409993e-01 9.99402828e-01 9.99395539e-01 9.99388121e-01\n",
      " 9.99380574e-01 9.99372894e-01 9.99365078e-01 9.99357125e-01\n",
      " 9.99349031e-01 9.99340793e-01 9.99332409e-01 9.99323876e-01\n",
      " 9.99315190e-01 9.99306350e-01 9.99297350e-01 9.99288189e-01\n",
      " 9.99278863e-01 9.99269369e-01 9.99259703e-01 9.99249862e-01\n",
      " 9.99239842e-01 9.99229640e-01 9.99219251e-01 9.99208673e-01\n",
      " 9.99197900e-01 9.99186930e-01 9.99175757e-01 9.99164379e-01\n",
      " 9.99152790e-01 9.99140986e-01 9.99128963e-01 9.99116715e-01\n",
      " 9.99104239e-01 9.99091530e-01 9.99078582e-01 9.99065391e-01\n",
      " 9.99051951e-01 9.99038258e-01 9.99024305e-01 9.99010087e-01\n",
      " 9.98995599e-01 9.98980835e-01 9.98965788e-01 9.98950454e-01\n",
      " 9.98934825e-01 9.98918895e-01 9.98902657e-01 9.98886106e-01\n",
      " 9.98869234e-01 9.98852034e-01 9.98834499e-01 9.98816622e-01\n",
      " 9.98798396e-01 9.98779811e-01 9.98760862e-01 9.98741538e-01\n",
      " 9.98721834e-01 9.98701739e-01 9.98681245e-01 9.98660343e-01\n",
      " 9.98639025e-01 9.98617281e-01 9.98595101e-01 9.98572475e-01\n",
      " 9.98549394e-01 9.98525848e-01 9.98501825e-01 9.98477315e-01\n",
      " 9.98452306e-01 9.98426789e-01 9.98400750e-01 9.98374179e-01\n",
      " 9.98347062e-01 9.98319388e-01 9.98291143e-01 9.98262314e-01\n",
      " 9.98232889e-01 9.98202853e-01 9.98172191e-01 9.98140891e-01\n",
      " 9.98108935e-01 9.98076310e-01 9.98043000e-01 9.98008989e-01\n",
      " 9.97974260e-01 9.97938796e-01 9.97902580e-01 9.97865594e-01\n",
      " 9.97827821e-01 9.97789241e-01 9.97749835e-01 9.97709584e-01\n",
      " 9.97668468e-01 9.97626465e-01 9.97583555e-01 9.97539716e-01\n",
      " 9.97494926e-01 9.97449162e-01 9.97402399e-01 9.97354615e-01\n",
      " 9.97305784e-01 9.97255881e-01 9.97204880e-01 9.97152755e-01\n",
      " 9.97099477e-01 9.97045019e-01 9.96989351e-01 9.96932445e-01\n",
      " 9.96874269e-01 9.96814793e-01 9.96753984e-01 9.96691809e-01\n",
      " 9.96628235e-01 9.96563227e-01 9.96496749e-01 9.96428765e-01\n",
      " 9.96359237e-01 9.96288126e-01 9.96215393e-01 9.96140997e-01\n",
      " 9.96064897e-01 9.95987049e-01 9.95907410e-01 9.95825933e-01\n",
      " 9.95742574e-01 9.95657284e-01 9.95570013e-01 9.95480712e-01\n",
      " 9.95389329e-01 9.95295811e-01 9.95200103e-01 9.95102149e-01\n",
      " 9.95001892e-01 9.94899271e-01 9.94794228e-01 9.94686698e-01\n",
      " 9.94576618e-01 9.94463922e-01 9.94348542e-01 9.94230408e-01\n",
      " 9.94109449e-01 9.93985592e-01 9.93858760e-01 9.93728876e-01\n",
      " 9.93595861e-01 9.93459632e-01 9.93320104e-01 9.93177192e-01\n",
      " 9.93030806e-01 9.92880855e-01 9.92727244e-01 9.92569877e-01\n",
      " 9.92408654e-01 9.92243474e-01 9.92074231e-01 9.91900817e-01\n",
      " 9.91723121e-01 9.91541029e-01 9.91354424e-01 9.91163185e-01\n",
      " 9.90967188e-01 9.90766306e-01 9.90560408e-01 9.90349359e-01\n",
      " 9.90133020e-01 9.89911249e-01 9.89683899e-01 9.89450821e-01\n",
      " 9.89211858e-01 9.88966853e-01 9.88715642e-01 9.88458056e-01\n",
      " 9.88193922e-01 9.87923063e-01 9.87645295e-01 9.87360431e-01\n",
      " 9.87068278e-01 9.86768636e-01 9.86461302e-01 9.86146065e-01\n",
      " 9.85822709e-01 9.85491013e-01 9.85150748e-01 9.84801679e-01\n",
      " 9.84443566e-01 9.84076159e-01 9.83699205e-01 9.83312440e-01\n",
      " 9.82915596e-01 9.82508396e-01 9.82090554e-01 9.81661779e-01\n",
      " 9.81221769e-01 9.80770215e-01 9.80306799e-01 9.79831196e-01\n",
      " 9.79343068e-01 9.78842072e-01 9.78327853e-01 9.77800046e-01\n",
      " 9.77258279e-01 9.76702165e-01 9.76131312e-01 9.75545312e-01\n",
      " 9.74943749e-01 9.74326195e-01 9.73692211e-01 9.73041346e-01\n",
      " 9.72373135e-01 9.71687104e-01 9.70982763e-01 9.70259611e-01\n",
      " 9.69517134e-01 9.68754802e-01 9.67972075e-01 9.67168395e-01\n",
      " 9.66343192e-01 9.65495881e-01 9.64625862e-01 9.63732518e-01\n",
      " 9.62815218e-01 9.61873315e-01 9.60906147e-01 9.59913032e-01\n",
      " 9.58893274e-01 9.57846161e-01 9.56770960e-01 9.55666924e-01\n",
      " 9.54533287e-01 9.53369264e-01 9.52174052e-01 9.50946831e-01\n",
      " 9.49686760e-01 9.48392982e-01 9.47064618e-01 9.45700771e-01\n",
      " 9.44300525e-01 9.42862944e-01 9.41387072e-01 9.39871934e-01\n",
      " 9.38316535e-01 9.36719860e-01 9.35080874e-01 9.33398524e-01\n",
      " 9.31671736e-01 9.29899415e-01 9.28080450e-01 9.26213708e-01\n",
      " 9.24298040e-01 9.22332275e-01 9.20315226e-01 9.18245689e-01\n",
      " 9.16122440e-01 9.13944240e-01 9.11709835e-01 9.09417953e-01\n",
      " 9.07067309e-01 9.04656604e-01 9.02184526e-01 8.99649750e-01\n",
      " 8.97050941e-01 8.94386756e-01 8.91655841e-01 8.88856836e-01\n",
      " 8.85988377e-01 8.83049094e-01 8.80037616e-01 8.76952572e-01\n",
      " 8.73792593e-01 8.70556312e-01 8.67242369e-01 8.63849413e-01\n",
      " 8.60376103e-01 8.56821111e-01 8.53183126e-01 8.49460856e-01\n",
      " 8.45653029e-01 8.41758402e-01 8.37775755e-01 8.33703904e-01\n",
      " 8.29541698e-01 8.25288027e-01 8.20941821e-01 8.16502057e-01\n",
      " 8.11967765e-01 8.07338026e-01 8.02611983e-01 7.97788839e-01\n",
      " 7.92867868e-01 7.87848412e-01 7.82729893e-01 7.77511811e-01\n",
      " 7.72193753e-01 7.66775395e-01 7.61256509e-01 7.55636964e-01\n",
      " 7.49916735e-01 7.44095903e-01 7.38174663e-01 7.32153325e-01\n",
      " 7.26032321e-01 7.19812207e-01 7.13493668e-01 7.07077519e-01\n",
      " 7.00564714e-01 6.93956343e-01 6.87253638e-01 6.80457973e-01\n",
      " 6.73570870e-01 6.66593999e-01 6.59529177e-01 6.52378372e-01\n",
      " 6.45143703e-01 6.37827439e-01 6.30432001e-01 6.22959958e-01\n",
      " 6.15414027e-01 6.07797072e-01 6.00112101e-01 5.92362261e-01\n",
      " 5.84550840e-01 5.76681257e-01 5.68757058e-01 5.60781917e-01\n",
      " 5.52759623e-01 5.44694077e-01 5.36589286e-01 5.28449354e-01\n",
      " 5.20278478e-01 5.12080933e-01 5.03861072e-01 4.95623309e-01\n",
      " 4.87372119e-01 4.79112018e-01 4.70847563e-01 4.62583334e-01\n",
      " 4.54323932e-01 4.46073959e-01 4.37838019e-01 4.29620697e-01\n",
      " 4.21426557e-01 4.13260125e-01 4.05125885e-01 3.97028265e-01\n",
      " 3.88971629e-01 3.80960267e-01 3.72998385e-01 3.65090098e-01\n",
      " 3.57239422e-01 3.49450262e-01 3.41726409e-01 3.34071531e-01\n",
      " 3.26489167e-01 3.18982718e-01 3.11555447e-01 3.04210470e-01\n",
      " 2.96950752e-01 2.89779107e-01 2.82698188e-01 2.75710491e-01\n",
      " 2.68818348e-01 2.62023931e-01 2.55329245e-01 2.48736132e-01\n",
      " 2.42246269e-01 2.35861171e-01 2.29582189e-01 2.23410514e-01\n",
      " 2.17347179e-01 2.11393061e-01 2.05548883e-01 1.99815219e-01\n",
      " 1.94192498e-01 1.88681004e-01 1.83280885e-01 1.77992156e-01\n",
      " 1.72814701e-01 1.67748283e-01 1.62792542e-01 1.57947007e-01\n",
      " 1.53211097e-01 1.48584129e-01 1.44065320e-01 1.39653796e-01\n",
      " 1.35348594e-01 1.31148672e-01 1.27052907e-01 1.23060109e-01\n",
      " 1.19169019e-01 1.15378318e-01 1.11686631e-01 1.08092532e-01\n",
      " 1.04594548e-01 1.01191166e-01 9.78808332e-02 9.46619665e-02\n",
      " 9.15329528e-02 8.84921548e-02 8.55379143e-02 8.26685565e-02\n",
      " 7.98823928e-02 7.71777246e-02 7.45528466e-02 7.20060496e-02\n",
      " 6.95356234e-02 6.71398596e-02 6.48170540e-02 6.25655092e-02\n",
      " 6.03835368e-02 5.82694590e-02 5.62216114e-02 5.42383440e-02\n",
      " 5.23180232e-02 5.04590333e-02 4.86597777e-02 4.69186804e-02\n",
      " 4.52341871e-02 4.36047659e-02 4.20289088e-02 4.05051318e-02\n",
      " 3.90319762e-02 3.76080090e-02 3.62318234e-02 3.49020391e-02\n",
      " 3.36173032e-02 3.23762898e-02 3.11777006e-02 3.00202651e-02\n",
      " 2.89027406e-02 2.78239122e-02 2.67825929e-02 2.57776232e-02\n",
      " 2.48078715e-02 2.38722338e-02 2.29696331e-02 2.20990197e-02\n",
      " 2.12593706e-02 2.04496896e-02 1.96690064e-02 1.89163769e-02\n",
      " 1.81908823e-02 1.74916292e-02 1.68177488e-02 1.61683967e-02\n",
      " 1.55427525e-02 1.49400193e-02 1.43594232e-02 1.38002131e-02\n",
      " 1.32616600e-02 1.27430564e-02 1.22437164e-02 1.17629747e-02\n",
      " 1.13001862e-02 1.08547260e-02 1.04259882e-02 1.00133861e-02\n",
      " 9.61635137e-03 9.23433357e-03 8.86679996e-03 8.51323482e-03\n",
      " 8.17313908e-03 7.84602990e-03 7.53144017e-03 7.22891815e-03\n",
      " 6.93802700e-03 6.65834439e-03 6.38946207e-03 6.13098548e-03\n",
      " 5.88253334e-03 5.64373731e-03 5.41424155e-03 5.19370237e-03\n",
      " 4.98178787e-03 4.77817761e-03 4.58256220e-03 4.39464301e-03\n",
      " 4.21413182e-03 4.04075051e-03 3.87423072e-03 3.71431354e-03\n",
      " 3.56074924e-03 3.41329696e-03 3.27172440e-03 3.13580760e-03\n",
      " 3.00533061e-03 2.88008524e-03 2.75987085e-03 2.64449404e-03\n",
      " 2.53376844e-03 2.42751448e-03 2.32555914e-03 2.22773573e-03\n",
      " 2.13388372e-03 2.04384845e-03 1.95748103e-03 1.87463803e-03\n",
      " 1.79518138e-03 1.71897816e-03 1.64590039e-03 1.57582490e-03\n",
      " 1.50863312e-03 1.44421097e-03 1.38244866e-03 1.32324054e-03\n",
      " 1.26648499e-03 1.21208422e-03 1.15994418e-03 1.10997441e-03\n",
      " 1.06208791e-03 1.01620101e-03 9.72233251e-04 9.30107285e-04\n",
      " 8.89748737e-04 8.51086115e-04 8.14050692e-04 7.78576415e-04\n",
      " 7.44599798e-04 7.12059832e-04 6.80897893e-04 6.51057649e-04\n",
      " 6.22484982e-04 5.95127899e-04 5.68936455e-04 5.43862679e-04\n",
      " 5.19860494e-04 4.96885649e-04 4.74895651e-04 4.53849696e-04\n",
      " 4.33708606e-04 4.14434767e-04 3.95992071e-04 3.78345855e-04\n",
      " 3.61462849e-04 3.45311121e-04 3.29860024e-04 3.15080150e-04\n",
      " 3.00943279e-04 2.87422336e-04 2.74491343e-04 2.62125380e-04\n",
      " 2.50300540e-04 2.38993892e-04 2.28183444e-04 2.17848102e-04\n",
      " 2.07967639e-04 1.98522658e-04 1.89494560e-04 1.80865515e-04\n",
      " 1.72618426e-04 1.64736906e-04 1.57205245e-04 1.50008388e-04\n",
      " 1.43131902e-04 1.36561959e-04 1.30285305e-04 1.24289241e-04\n",
      " 1.18561599e-04 1.13090722e-04 1.07865442e-04 1.02875061e-04\n",
      " 9.81093309e-05 9.35584366e-05 8.92129780e-05 8.50639529e-05\n",
      " 8.11027407e-05 7.73210870e-05 7.37110885e-05 7.02651787e-05\n",
      " 6.69761139e-05 6.38369603e-05 6.08410805e-05 5.79821221e-05\n",
      " 5.52540053e-05 5.26509119e-05 5.01672744e-05 4.77977654e-05\n",
      " 4.55372879e-05 4.33809654e-05 4.13241328e-05 3.93623275e-05\n",
      " 3.74912812e-05 3.57069112e-05 3.40053130e-05 3.23827528e-05\n",
      " 3.08356599e-05 2.93606203e-05 2.79543697e-05 2.66137873e-05\n",
      " 2.53358896e-05 2.41178250e-05 2.29568672e-05 2.18504110e-05\n",
      " 2.07959662e-05 1.97911533e-05 1.88336983e-05 1.79214285e-05\n",
      " 1.70522680e-05 1.62242334e-05 1.54354299e-05 1.46840477e-05\n",
      " 1.39683580e-05 1.32867096e-05 1.26375253e-05 1.20192993e-05\n",
      " 1.14305935e-05 1.08700345e-05 1.03363113e-05 9.82817222e-06\n",
      " 9.34442219e-06 8.88392051e-06 8.44557833e-06 8.02835640e-06\n",
      " 7.63126284e-06 7.25335111e-06 6.89371792e-06 6.55150139e-06\n",
      " 6.22587917e-06 5.91606665e-06 5.62131537e-06 5.34091129e-06\n",
      " 5.07417336e-06 4.82045197e-06 4.57912756e-06 4.34960927e-06\n",
      " 4.13133368e-06 3.92376351e-06 3.72638651e-06 3.53871427e-06\n",
      " 3.36028118e-06 3.19064338e-06 3.02937779e-06 2.87608113e-06\n",
      " 2.73036905e-06 2.59187527e-06 2.46025073e-06 2.33516280e-06\n",
      " 2.21629458e-06 2.10334412e-06 1.99602375e-06 1.89405943e-06\n",
      " 1.79719013e-06 1.70516722e-06 1.61775388e-06 1.53472459e-06\n",
      " 1.45586458e-06 1.38096933e-06 1.30984412e-06 1.24230354e-06\n",
      " 1.17817107e-06 1.11727869e-06 1.05946644e-06 1.00458206e-06\n",
      " 9.52480641e-07 9.03024275e-07 8.56081712e-07 8.11528061e-07\n",
      " 7.69244483e-07 7.29117909e-07 6.91040767e-07 6.54910719e-07\n",
      " 6.20630417e-07 5.88107260e-07 5.57253177e-07 5.27984402e-07\n",
      " 5.00221275e-07 4.73888045e-07 4.48912682e-07 4.25226698e-07\n",
      " 4.02764979e-07 3.81465622e-07 3.61269782e-07 3.42121522e-07\n",
      " 3.23967678e-07 3.06757717e-07 2.90443619e-07 2.74979748e-07\n",
      " 2.60322740e-07 2.46431393e-07 2.33266561e-07 2.20791051e-07\n",
      " 2.08969535e-07 1.97768451e-07 1.87155923e-07 1.77101675e-07\n",
      " 1.67576952e-07 1.58554450e-07 1.50008238e-07 1.41913697e-07]\n"
     ]
    },
    {
     "data": {
      "image/png": "[encoded data removed]",
      "text/plain": [
       "<Figure size 432x288 with 1 Axes>"
      ]
     },
     "metadata": {
      "needs_background": "light"
     },
     "output_type": "display_data"
    }
   ],
   "source": [
    "def decision_boundary(means, sds, priors):\n",
    "    decision_boundaries = []\n",
    "    # START ANSWER\n",
    "    xs = np.linspace(1,7,1000)\n",
    "    posterior_prob_setosa = posterior(xs, means, sds, priors, 0)\n",
    "    posterior_prob_versicolor = posterior(xs, means, sds, priors, 1)\n",
    "    posterior_prob_virginica = posterior(xs, means, sds, priors, 2)\n",
    "    \n",
    "    print(posterior_prob_versicolor)\n",
    "    # END ANSWER\n",
    "    return decision_boundaries\n",
    "\n",
    "# Create a scatterplot of the third and fourth feature.\n",
    "feature_idx2 = 3\n",
    "\n",
    "plt.scatter(iris.data[:, feature_idx], iris.data[:, feature_idx2], c=iris.target)\n",
    "plt.xlabel(iris.feature_names[feature_idx])\n",
    "plt.ylabel(iris.feature_names[feature_idx2])\n",
    "decision_boundaries = decision_boundary(means, sds, priors)\n",
    "for boundary in decision_boundaries:\n",
    "    plt.axvline(x=boundary)\n",
    "\n",
    "plt.show()"
   ]
  },
  {
   "cell_type": "markdown",
   "metadata": {},
   "source": [
    "$\\q{6.2}$ You have now successfully implemented a Bayes-classifier. Try to change the feature used in the classifier `feature_idx` and see how it affects the performance. Was the choice of petal width a good choice? And was there another feature which performs good as well?"
   ]
  }
 ],
 "metadata": {
  "kernelspec": {
   "display_name": "Python 3",
   "language": "python",
   "name": "python3"
  },
  "language_info": {
   "codemirror_mode": {
    "name": "ipython",
    "version": 3
   },
   "file_extension": ".py",
   "mimetype": "text/x-python",
   "name": "python",
   "nbconvert_exporter": "python",
   "pygments_lexer": "ipython3",
   "version": "3.8.8"
  }
 },
 "nbformat": 4,
 "nbformat_minor": 2
}
